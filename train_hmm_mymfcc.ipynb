{
 "cells": [
  {
   "cell_type": "code",
   "execution_count": 2,
   "id": "f7cdc218",
   "metadata": {},
   "outputs": [],
   "source": [
    "from torch.utils.data import Dataset, DataLoader\n",
    "import wave\n",
    "import numpy as np\n",
    "import librosa\n",
    "from utils import endpoint_detection, compute_mfcc\n",
    "from tqdm import tqdm\n",
    "import torch\n",
    "import os\n",
    "os.environ[\"OMP_NUM_THREADS\"] = \"2\"\n",
    "\n",
    "def extract_mfcc(file_path):\n",
    "    \"\"\"\n",
    "    提取MFCC特征\n",
    "    \"\"\"\n",
    "    with wave.open(file_path, 'rb') as wf:\n",
    "        nframes = wf.getnframes()\n",
    "        rate = wf.getframerate()\n",
    "        strData = wf.readframes(nframes)\n",
    "        waveData = np.frombuffer(strData, dtype=np.int16)\n",
    "\n",
    "    # 端点检测\n",
    "    s, e = endpoint_detection(waveData)\n",
    "    signal = waveData[s: e]*1.0\n",
    "    # mfccs = librosa.feature.mfcc(y=signal, sr=rate, n_mfcc=40, n_mels=128, n_fft=256, hop_length=80, win_length=256, lifter=12)\n",
    "    mfccs = compute_mfcc(signal).T\n",
    "    mean = np.mean(mfccs, axis=1, keepdims=True)\n",
    "    std = np.std(mfccs, axis=1, keepdims=True)\n",
    "    fea = (mfccs-mean)/std\n",
    "    # 添加一阶差分和二阶差分\n",
    "    fea_d = librosa.feature.delta(fea, order=1)\n",
    "    fea_dd = librosa.feature.delta(fea, order=2)\n",
    "    fea = np.concatenate((fea.T, fea_d.T, fea_dd.T), axis=1)\n",
    "    return fea"
   ]
  },
  {
   "cell_type": "code",
   "execution_count": 3,
   "id": "5c8ca83b",
   "metadata": {},
   "outputs": [],
   "source": [
    "from sklearn.cluster import KMeans\n",
    "\n",
    "def run_kmeans(dataset, K):\n",
    "    labs = KMeans(n_clusters=K, random_state=9).fit_predict(dataset)\n",
    "    return labs\n",
    "\n",
    "def gen_para_GMM(fea_collect, N_mix):\n",
    "    # 首先对特征进行kmeans聚类\n",
    "    feas = np.concatenate(fea_collect, axis=0)\n",
    "    N, D = np.shape(feas)\n",
    "    # print(\"sub_fea_shape\", feas.shape)\n",
    "    # 初始化聚类中心\n",
    "    labs = run_kmeans(feas, N_mix)\n",
    "    mus = np.zeros([N_mix, D])\n",
    "    sigmas = np.zeros([N_mix, D])\n",
    "    ws = np.zeros(N_mix)\n",
    "    for m in range(N_mix):\n",
    "        index = np.where(labs == m)[0]\n",
    "        # print(\"-----index-------\", index)\n",
    "        sub_feas = feas[index]\n",
    "        mu = np.mean(sub_feas, axis=0)\n",
    "        sigma = np.var(sub_feas, axis=0)\n",
    "        sigma = sigma + 0.0001\n",
    "        mus[m] = mu\n",
    "        sigmas[m] = sigma\n",
    "\n",
    "        # print(\"-----N D-------\", N, np.shape(index)[0])\n",
    "        ws[m] = np.shape(index)[0] / N\n",
    "    ws = (ws + 0.01) / np.sum(ws + 0.01)\n",
    "    return ws, mus, sigmas"
   ]
  },
  {
   "cell_type": "code",
   "execution_count": 4,
   "id": "5e3c43e9",
   "metadata": {},
   "outputs": [],
   "source": [
    "import numpy as np\n",
    "\n",
    "def init_para_hmm(feas, len_feas, N_state, N_mix):\n",
    "    # 初始一定从 state 0 开始\n",
    "    pi = np.zeros(N_state)\n",
    "    pi[0] = 1\n",
    "\n",
    "    # 当前状态 转移概率0.5 下一状态 转移概率0.5\n",
    "    # 进入最后一个状态后不再跳出\n",
    "    A = np.zeros([N_state, N_state])\n",
    "    for i in range(N_state-1):\n",
    "        A[i, i] = 0.5\n",
    "        A[i, i+1] = 0.5\n",
    "    A[-1, -1] = 1\n",
    "\n",
    "    _, D = np.shape(feas[0])\n",
    "    hmm_means = np.zeros([N_state, N_mix, D])\n",
    "    hmm_sigmas = np.zeros([N_state, N_mix, D])\n",
    "    hmm_ws = np.zeros([N_state, N_mix])\n",
    "\n",
    "    for s in range(N_state):\n",
    "        sub_fea_collect = []\n",
    "        # 初始化时 先为每个状态平均分配特征\n",
    "        for fea, T in zip(feas, len_feas):\n",
    "            T_s = int(T/N_state)*s\n",
    "            T_e = (int(T/N_state))*(s+1)\n",
    "            sub_fea_collect.append(fea[T_s:T_e])\n",
    "        ws, mus, sigmas = gen_para_GMM(sub_fea_collect, N_mix)\n",
    "        hmm_means[s] = mus\n",
    "        hmm_sigmas[s] = sigmas\n",
    "        hmm_ws[s] = ws\n",
    "\n",
    "    return pi, A, hmm_means, hmm_sigmas, hmm_ws"
   ]
  },
  {
   "cell_type": "code",
   "execution_count": 5,
   "id": "5df962cc",
   "metadata": {},
   "outputs": [],
   "source": [
    "# val_sids = [\"21300240018\", \"22307110035\"]\n",
    "val_sids = [\"22307130313\", \"22307130505\", \"22307110035\"]\n",
    "train_sids = [sid for sid in os.listdir(\"dataset\") if sid not in val_sids]\n",
    "\n",
    "def load_data(word_idx, sids):\n",
    "    data_paths = []\n",
    "    for sid in sids:\n",
    "        base_path = os.path.join(\"dataset\", sid)\n",
    "        files = os.listdir(base_path)\n",
    "        full_paths = [os.path.join(base_path, file) for file in files]\n",
    "        data_paths.extend(full_paths)\n",
    "\n",
    "    collect_fea = []\n",
    "    len_feas = []\n",
    "\n",
    "    # 构建数据和标签\n",
    "    for file_path in tqdm(data_paths):\n",
    "        id, word, cnt = os.path.basename(file_path).split(\"_\")\n",
    "        # print(id, word, cnt)\n",
    "        if word == str(word_idx).zfill(2):\n",
    "            fea = extract_mfcc(file_path)\n",
    "            collect_fea.append(fea)\n",
    "            len_feas.append(np.shape(fea)[0])\n",
    "\n",
    "    return collect_fea, len_feas"
   ]
  },
  {
   "cell_type": "code",
   "execution_count": 7,
   "id": "506e67ff",
   "metadata": {},
   "outputs": [
    {
     "name": "stderr",
     "output_type": "stream",
     "text": [
      "100%|██████████| 8400/8400 [01:18<00:00, 107.57it/s]\n"
     ]
    },
    {
     "name": "stdout",
     "output_type": "stream",
     "text": [
      "420  files for word  1\n"
     ]
    },
    {
     "name": "stderr",
     "output_type": "stream",
     "text": [
      "100%|██████████| 1200/1200 [00:12<00:00, 95.15it/s]\n"
     ]
    },
    {
     "name": "stdout",
     "output_type": "stream",
     "text": [
      "Epoch 1, Val Score: -1.45\n",
      "Epoch 1, Train Score: 5.86\n",
      "Epoch 2, Val Score: -0.90\n",
      "Epoch 2, Train Score: 7.24\n",
      "Epoch 3, Val Score: -0.64\n",
      "Epoch 3, Train Score: 7.88\n",
      "Epoch 4, Val Score: -0.47\n",
      "Epoch 4, Train Score: 8.30\n",
      "Epoch 5, Val Score: -0.37\n",
      "Epoch 5, Train Score: 8.60\n",
      "Epoch 6, Val Score: -0.29\n",
      "Epoch 6, Train Score: 8.80\n",
      "Epoch 7, Val Score: -0.24\n",
      "Epoch 7, Train Score: 8.90\n",
      "Early stopping triggered.\n"
     ]
    },
    {
     "name": "stderr",
     "output_type": "stream",
     "text": [
      "100%|██████████| 8400/8400 [01:06<00:00, 126.01it/s]\n"
     ]
    },
    {
     "name": "stdout",
     "output_type": "stream",
     "text": [
      "420  files for word  2\n"
     ]
    },
    {
     "name": "stderr",
     "output_type": "stream",
     "text": [
      "100%|██████████| 1200/1200 [00:14<00:00, 83.22it/s]\n"
     ]
    },
    {
     "name": "stdout",
     "output_type": "stream",
     "text": [
      "Epoch 1, Val Score: 5.92\n",
      "Epoch 1, Train Score: 10.76\n",
      "Epoch 2, Val Score: 6.16\n",
      "Epoch 2, Train Score: 11.85\n",
      "Epoch 3, Val Score: 6.42\n",
      "Epoch 3, Train Score: 12.41\n",
      "Epoch 4, Val Score: 6.56\n",
      "Epoch 4, Train Score: 12.78\n",
      "Epoch 5, Val Score: 6.70\n",
      "Epoch 5, Train Score: 13.06\n",
      "Epoch 6, Val Score: 6.82\n",
      "Epoch 6, Train Score: 13.31\n",
      "Epoch 7, Val Score: 6.88\n",
      "Epoch 7, Train Score: 13.42\n",
      "Epoch 8, Val Score: 6.89\n",
      "Epoch 8, Train Score: 13.49\n",
      "Early stopping triggered.\n"
     ]
    },
    {
     "name": "stderr",
     "output_type": "stream",
     "text": [
      "100%|██████████| 8400/8400 [01:13<00:00, 113.78it/s]\n"
     ]
    },
    {
     "name": "stdout",
     "output_type": "stream",
     "text": [
      "420  files for word  3\n"
     ]
    },
    {
     "name": "stderr",
     "output_type": "stream",
     "text": [
      "100%|██████████| 1200/1200 [00:12<00:00, 93.53it/s]\n"
     ]
    },
    {
     "name": "stdout",
     "output_type": "stream",
     "text": [
      "Epoch 1, Val Score: 8.71\n",
      "Epoch 1, Train Score: 11.49\n",
      "Epoch 2, Val Score: 9.34\n",
      "Epoch 2, Train Score: 12.68\n",
      "Epoch 3, Val Score: 9.57\n",
      "Epoch 3, Train Score: 13.16\n",
      "Epoch 4, Val Score: 9.70\n",
      "Epoch 4, Train Score: 13.41\n",
      "Epoch 5, Val Score: 9.82\n",
      "Epoch 5, Train Score: 13.60\n",
      "Early stopping triggered.\n"
     ]
    },
    {
     "name": "stderr",
     "output_type": "stream",
     "text": [
      "100%|██████████| 8400/8400 [01:15<00:00, 110.90it/s]\n"
     ]
    },
    {
     "name": "stdout",
     "output_type": "stream",
     "text": [
      "420  files for word  4\n"
     ]
    },
    {
     "name": "stderr",
     "output_type": "stream",
     "text": [
      "100%|██████████| 1200/1200 [00:13<00:00, 89.88it/s]\n"
     ]
    },
    {
     "name": "stdout",
     "output_type": "stream",
     "text": [
      "Epoch 1, Val Score: -1.01\n",
      "Epoch 1, Train Score: 5.35\n",
      "Epoch 2, Val Score: -0.50\n",
      "Epoch 2, Train Score: 6.93\n",
      "Epoch 3, Val Score: -0.29\n",
      "Epoch 3, Train Score: 7.68\n",
      "Epoch 4, Val Score: -0.15\n",
      "Epoch 4, Train Score: 8.04\n",
      "Epoch 5, Val Score: -0.04\n",
      "Epoch 5, Train Score: 8.20\n",
      "Epoch 6, Val Score: 0.04\n",
      "Epoch 6, Train Score: 8.35\n",
      "Epoch 7, Val Score: 0.10\n",
      "Epoch 7, Train Score: 8.54\n",
      "Early stopping triggered.\n"
     ]
    },
    {
     "name": "stderr",
     "output_type": "stream",
     "text": [
      "100%|██████████| 8400/8400 [01:22<00:00, 101.88it/s]\n"
     ]
    },
    {
     "name": "stdout",
     "output_type": "stream",
     "text": [
      "420  files for word  5\n"
     ]
    },
    {
     "name": "stderr",
     "output_type": "stream",
     "text": [
      "100%|██████████| 1200/1200 [00:15<00:00, 77.25it/s]\n"
     ]
    },
    {
     "name": "stdout",
     "output_type": "stream",
     "text": [
      "Epoch 1, Val Score: 1.41\n",
      "Epoch 1, Train Score: 8.68\n",
      "Epoch 2, Val Score: 1.94\n",
      "Epoch 2, Train Score: 10.10\n",
      "Epoch 3, Val Score: 2.16\n",
      "Epoch 3, Train Score: 10.62\n",
      "Epoch 4, Val Score: 2.30\n",
      "Epoch 4, Train Score: 10.90\n",
      "Epoch 5, Val Score: 2.37\n",
      "Epoch 5, Train Score: 11.13\n",
      "Epoch 6, Val Score: 2.40\n",
      "Epoch 6, Train Score: 11.35\n",
      "Epoch 7, Val Score: 2.39\n",
      "Epoch 7, Train Score: 11.61\n",
      "Epoch 8, Val Score: 2.37\n",
      "Epoch 8, Train Score: 11.76\n",
      "Early stopping triggered.\n"
     ]
    },
    {
     "name": "stderr",
     "output_type": "stream",
     "text": [
      "100%|██████████| 8400/8400 [01:24<00:00, 99.03it/s] \n"
     ]
    },
    {
     "name": "stdout",
     "output_type": "stream",
     "text": [
      "420  files for word  6\n"
     ]
    },
    {
     "name": "stderr",
     "output_type": "stream",
     "text": [
      "100%|██████████| 1200/1200 [00:12<00:00, 92.51it/s]\n"
     ]
    },
    {
     "name": "stdout",
     "output_type": "stream",
     "text": [
      "Epoch 1, Val Score: 2.62\n",
      "Epoch 1, Train Score: 9.04\n",
      "Epoch 2, Val Score: 3.40\n",
      "Epoch 2, Train Score: 10.82\n",
      "Epoch 3, Val Score: 3.61\n",
      "Epoch 3, Train Score: 11.59\n",
      "Epoch 4, Val Score: 3.77\n",
      "Epoch 4, Train Score: 12.06\n",
      "Epoch 5, Val Score: 3.87\n",
      "Epoch 5, Train Score: 12.31\n",
      "Epoch 6, Val Score: 3.92\n",
      "Epoch 6, Train Score: 12.52\n",
      "Epoch 7, Val Score: 3.92\n",
      "Epoch 7, Train Score: 12.62\n",
      "Early stopping triggered.\n"
     ]
    },
    {
     "name": "stderr",
     "output_type": "stream",
     "text": [
      "100%|██████████| 8400/8400 [01:19<00:00, 106.13it/s]\n"
     ]
    },
    {
     "name": "stdout",
     "output_type": "stream",
     "text": [
      "420  files for word  7\n"
     ]
    },
    {
     "name": "stderr",
     "output_type": "stream",
     "text": [
      "100%|██████████| 1200/1200 [00:13<00:00, 91.17it/s]\n"
     ]
    },
    {
     "name": "stdout",
     "output_type": "stream",
     "text": [
      "Epoch 1, Val Score: 0.87\n",
      "Epoch 1, Train Score: 9.15\n",
      "Epoch 2, Val Score: 1.09\n",
      "Epoch 2, Train Score: 10.82\n",
      "Epoch 3, Val Score: 1.13\n",
      "Epoch 3, Train Score: 11.52\n",
      "Epoch 4, Val Score: 1.17\n",
      "Epoch 4, Train Score: 11.78\n",
      "Epoch 5, Val Score: 1.20\n",
      "Epoch 5, Train Score: 11.96\n",
      "Epoch 6, Val Score: 1.22\n",
      "Epoch 6, Train Score: 12.08\n",
      "Epoch 7, Val Score: 1.26\n",
      "Epoch 7, Train Score: 12.15\n",
      "Epoch 8, Val Score: 1.29\n",
      "Epoch 8, Train Score: 12.22\n",
      "Early stopping triggered.\n"
     ]
    },
    {
     "name": "stderr",
     "output_type": "stream",
     "text": [
      "100%|██████████| 8400/8400 [01:10<00:00, 119.46it/s]\n"
     ]
    },
    {
     "name": "stdout",
     "output_type": "stream",
     "text": [
      "420  files for word  8\n"
     ]
    },
    {
     "name": "stderr",
     "output_type": "stream",
     "text": [
      "100%|██████████| 1200/1200 [00:11<00:00, 101.59it/s]\n"
     ]
    },
    {
     "name": "stdout",
     "output_type": "stream",
     "text": [
      "Epoch 1, Val Score: -1.03\n",
      "Epoch 1, Train Score: 6.49\n",
      "Epoch 2, Val Score: -0.55\n",
      "Epoch 2, Train Score: 8.62\n",
      "Epoch 3, Val Score: -0.37\n",
      "Epoch 3, Train Score: 9.37\n",
      "Epoch 4, Val Score: -0.23\n",
      "Epoch 4, Train Score: 9.71\n",
      "Epoch 5, Val Score: -0.05\n",
      "Epoch 5, Train Score: 10.00\n",
      "Epoch 6, Val Score: 0.15\n",
      "Epoch 6, Train Score: 10.24\n",
      "Epoch 7, Val Score: 0.24\n",
      "Epoch 7, Train Score: 10.34\n",
      "Early stopping triggered.\n"
     ]
    },
    {
     "name": "stderr",
     "output_type": "stream",
     "text": [
      "100%|██████████| 8400/8400 [01:28<00:00, 94.52it/s] \n"
     ]
    },
    {
     "name": "stdout",
     "output_type": "stream",
     "text": [
      "420  files for word  9\n"
     ]
    },
    {
     "name": "stderr",
     "output_type": "stream",
     "text": [
      "100%|██████████| 1200/1200 [00:13<00:00, 85.82it/s]\n"
     ]
    },
    {
     "name": "stdout",
     "output_type": "stream",
     "text": [
      "Epoch 1, Val Score: 2.47\n",
      "Epoch 1, Train Score: 11.08\n",
      "Epoch 2, Val Score: 3.20\n",
      "Epoch 2, Train Score: 12.94\n",
      "Epoch 3, Val Score: 3.54\n",
      "Epoch 3, Train Score: 13.94\n",
      "Epoch 4, Val Score: 3.67\n",
      "Epoch 4, Train Score: 14.77\n",
      "Epoch 5, Val Score: 3.77\n",
      "Epoch 5, Train Score: 15.40\n",
      "Epoch 6, Val Score: 3.91\n",
      "Epoch 6, Train Score: 15.58\n",
      "Epoch 7, Val Score: 4.00\n",
      "Epoch 7, Train Score: 15.71\n",
      "Epoch 8, Val Score: 4.05\n",
      "Epoch 8, Train Score: 15.81\n",
      "Early stopping triggered.\n"
     ]
    },
    {
     "name": "stderr",
     "output_type": "stream",
     "text": [
      "100%|██████████| 8400/8400 [01:23<00:00, 100.09it/s]\n"
     ]
    },
    {
     "name": "stdout",
     "output_type": "stream",
     "text": [
      "420  files for word  10\n"
     ]
    },
    {
     "name": "stderr",
     "output_type": "stream",
     "text": [
      "100%|██████████| 1200/1200 [00:13<00:00, 87.17it/s]\n"
     ]
    },
    {
     "name": "stdout",
     "output_type": "stream",
     "text": [
      "Epoch 1, Val Score: 5.60\n",
      "Epoch 1, Train Score: 12.52\n",
      "Epoch 2, Val Score: 5.98\n",
      "Epoch 2, Train Score: 14.43\n",
      "Epoch 3, Val Score: 6.12\n",
      "Epoch 3, Train Score: 15.33\n",
      "Epoch 4, Val Score: 6.21\n",
      "Epoch 4, Train Score: 15.76\n",
      "Epoch 5, Val Score: 6.27\n",
      "Epoch 5, Train Score: 15.89\n",
      "Epoch 6, Val Score: 6.35\n",
      "Epoch 6, Train Score: 15.99\n",
      "Epoch 7, Val Score: 6.46\n",
      "Epoch 7, Train Score: 16.08\n",
      "Early stopping triggered.\n"
     ]
    },
    {
     "name": "stderr",
     "output_type": "stream",
     "text": [
      "100%|██████████| 8400/8400 [01:24<00:00, 99.15it/s] \n"
     ]
    },
    {
     "name": "stdout",
     "output_type": "stream",
     "text": [
      "420  files for word  11\n"
     ]
    },
    {
     "name": "stderr",
     "output_type": "stream",
     "text": [
      "100%|██████████| 1200/1200 [00:12<00:00, 93.91it/s]\n"
     ]
    },
    {
     "name": "stdout",
     "output_type": "stream",
     "text": [
      "Epoch 1, Val Score: -1.83\n",
      "Epoch 1, Train Score: 1.77\n",
      "Epoch 2, Val Score: -1.04\n",
      "Epoch 2, Train Score: 3.58\n",
      "Epoch 3, Val Score: -0.81\n",
      "Epoch 3, Train Score: 4.46\n",
      "Epoch 4, Val Score: -0.76\n",
      "Epoch 4, Train Score: 4.90\n",
      "Epoch 5, Val Score: -0.71\n",
      "Epoch 5, Train Score: 5.15\n",
      "Epoch 6, Val Score: -0.66\n",
      "Epoch 6, Train Score: 5.34\n",
      "Epoch 7, Val Score: -0.64\n",
      "Epoch 7, Train Score: 5.47\n",
      "Early stopping triggered.\n"
     ]
    },
    {
     "name": "stderr",
     "output_type": "stream",
     "text": [
      "100%|██████████| 8400/8400 [01:16<00:00, 109.20it/s]\n"
     ]
    },
    {
     "name": "stdout",
     "output_type": "stream",
     "text": [
      "420  files for word  12\n"
     ]
    },
    {
     "name": "stderr",
     "output_type": "stream",
     "text": [
      "100%|██████████| 1200/1200 [00:11<00:00, 104.67it/s]\n"
     ]
    },
    {
     "name": "stdout",
     "output_type": "stream",
     "text": [
      "Epoch 1, Val Score: -0.31\n",
      "Epoch 1, Train Score: 3.86\n",
      "Epoch 2, Val Score: 0.19\n",
      "Epoch 2, Train Score: 4.99\n",
      "Epoch 3, Val Score: 0.42\n",
      "Epoch 3, Train Score: 5.50\n",
      "Epoch 4, Val Score: 0.60\n",
      "Epoch 4, Train Score: 5.79\n",
      "Epoch 5, Val Score: 0.72\n",
      "Epoch 5, Train Score: 5.98\n",
      "Early stopping triggered.\n"
     ]
    },
    {
     "name": "stderr",
     "output_type": "stream",
     "text": [
      "100%|██████████| 8400/8400 [01:18<00:00, 106.55it/s]\n"
     ]
    },
    {
     "name": "stdout",
     "output_type": "stream",
     "text": [
      "420  files for word  13\n"
     ]
    },
    {
     "name": "stderr",
     "output_type": "stream",
     "text": [
      "100%|██████████| 1200/1200 [00:11<00:00, 101.32it/s]\n"
     ]
    },
    {
     "name": "stdout",
     "output_type": "stream",
     "text": [
      "Epoch 1, Val Score: -1.63\n",
      "Epoch 1, Train Score: 6.19\n",
      "Epoch 2, Val Score: -1.11\n",
      "Epoch 2, Train Score: 7.85\n",
      "Epoch 3, Val Score: -0.95\n",
      "Epoch 3, Train Score: 8.66\n",
      "Epoch 4, Val Score: -0.85\n",
      "Epoch 4, Train Score: 9.02\n",
      "Epoch 5, Val Score: -0.75\n",
      "Epoch 5, Train Score: 9.24\n",
      "Epoch 6, Val Score: -0.69\n",
      "Epoch 6, Train Score: 9.44\n",
      "Epoch 7, Val Score: -0.65\n",
      "Epoch 7, Train Score: 9.63\n",
      "Early stopping triggered.\n"
     ]
    },
    {
     "name": "stderr",
     "output_type": "stream",
     "text": [
      "100%|██████████| 8400/8400 [01:16<00:00, 109.48it/s]\n"
     ]
    },
    {
     "name": "stdout",
     "output_type": "stream",
     "text": [
      "420  files for word  14\n"
     ]
    },
    {
     "name": "stderr",
     "output_type": "stream",
     "text": [
      "100%|██████████| 1200/1200 [00:11<00:00, 104.51it/s]\n"
     ]
    },
    {
     "name": "stdout",
     "output_type": "stream",
     "text": [
      "Epoch 1, Val Score: -1.74\n",
      "Epoch 1, Train Score: 4.20\n",
      "Epoch 2, Val Score: -1.43\n",
      "Epoch 2, Train Score: 5.72\n",
      "Epoch 3, Val Score: -1.31\n",
      "Epoch 3, Train Score: 6.56\n",
      "Epoch 4, Val Score: -1.20\n",
      "Epoch 4, Train Score: 6.93\n",
      "Epoch 5, Val Score: -1.15\n",
      "Epoch 5, Train Score: 7.08\n",
      "Epoch 6, Val Score: -1.13\n",
      "Epoch 6, Train Score: 7.19\n",
      "Epoch 7, Val Score: -1.12\n",
      "Epoch 7, Train Score: 7.26\n",
      "Early stopping triggered.\n"
     ]
    },
    {
     "name": "stderr",
     "output_type": "stream",
     "text": [
      "100%|██████████| 8400/8400 [01:18<00:00, 107.06it/s]\n"
     ]
    },
    {
     "name": "stdout",
     "output_type": "stream",
     "text": [
      "420  files for word  15\n"
     ]
    },
    {
     "name": "stderr",
     "output_type": "stream",
     "text": [
      "100%|██████████| 1200/1200 [00:12<00:00, 99.44it/s] \n"
     ]
    },
    {
     "name": "stdout",
     "output_type": "stream",
     "text": [
      "Epoch 1, Val Score: -2.22\n",
      "Epoch 1, Train Score: 4.16\n",
      "Epoch 2, Val Score: -1.84\n",
      "Epoch 2, Train Score: 5.25\n",
      "Epoch 3, Val Score: -1.69\n",
      "Epoch 3, Train Score: 5.87\n",
      "Epoch 4, Val Score: -1.56\n",
      "Epoch 4, Train Score: 6.31\n",
      "Epoch 5, Val Score: -1.46\n",
      "Epoch 5, Train Score: 6.54\n",
      "Epoch 6, Val Score: -1.39\n",
      "Epoch 6, Train Score: 6.65\n",
      "Epoch 7, Val Score: -1.33\n",
      "Epoch 7, Train Score: 6.81\n",
      "Early stopping triggered.\n"
     ]
    },
    {
     "name": "stderr",
     "output_type": "stream",
     "text": [
      "100%|██████████| 8400/8400 [01:05<00:00, 128.82it/s]\n"
     ]
    },
    {
     "name": "stdout",
     "output_type": "stream",
     "text": [
      "420  files for word  16\n"
     ]
    },
    {
     "name": "stderr",
     "output_type": "stream",
     "text": [
      "100%|██████████| 1200/1200 [00:13<00:00, 90.79it/s] \n"
     ]
    },
    {
     "name": "stdout",
     "output_type": "stream",
     "text": [
      "Epoch 1, Val Score: -3.16\n",
      "Epoch 1, Train Score: 3.17\n",
      "Epoch 2, Val Score: -2.84\n",
      "Epoch 2, Train Score: 4.67\n",
      "Epoch 3, Val Score: -2.73\n",
      "Epoch 3, Train Score: 5.56\n",
      "Epoch 4, Val Score: -2.60\n",
      "Epoch 4, Train Score: 6.00\n",
      "Epoch 5, Val Score: -2.46\n",
      "Epoch 5, Train Score: 6.36\n",
      "Epoch 6, Val Score: -2.35\n",
      "Epoch 6, Train Score: 6.88\n",
      "Epoch 7, Val Score: -2.27\n",
      "Epoch 7, Train Score: 7.21\n",
      "Epoch 8, Val Score: -2.21\n",
      "Epoch 8, Train Score: 7.84\n",
      "Epoch 9, Val Score: -2.14\n",
      "Epoch 9, Train Score: 9.67\n",
      "Epoch 10, Val Score: -2.11\n",
      "Epoch 10, Train Score: 13.87\n",
      "Epoch 11, Val Score: -2.08\n",
      "Epoch 11, Train Score: 47.40\n",
      "Epoch 12, Val Score: -2.08\n",
      "Epoch 12, Train Score: 47.43\n",
      "Epoch 13, Val Score: -2.06\n",
      "Epoch 13, Train Score: 47.46\n",
      "Epoch 14, Val Score: -2.05\n",
      "Epoch 14, Train Score: 47.48\n",
      "Early stopping triggered.\n"
     ]
    },
    {
     "name": "stderr",
     "output_type": "stream",
     "text": [
      "100%|██████████| 8400/8400 [01:24<00:00, 99.98it/s] \n"
     ]
    },
    {
     "name": "stdout",
     "output_type": "stream",
     "text": [
      "420  files for word  17\n"
     ]
    },
    {
     "name": "stderr",
     "output_type": "stream",
     "text": [
      "100%|██████████| 1200/1200 [00:12<00:00, 95.65it/s] \n"
     ]
    },
    {
     "name": "stdout",
     "output_type": "stream",
     "text": [
      "Epoch 1, Val Score: -3.31\n",
      "Epoch 1, Train Score: 3.66\n",
      "Epoch 2, Val Score: -2.80\n",
      "Epoch 2, Train Score: 5.06\n",
      "Epoch 3, Val Score: -2.60\n",
      "Epoch 3, Train Score: 5.77\n",
      "Epoch 4, Val Score: -2.38\n",
      "Epoch 4, Train Score: 6.31\n",
      "Epoch 5, Val Score: -2.22\n",
      "Epoch 5, Train Score: 6.70\n",
      "Epoch 6, Val Score: -2.14\n",
      "Epoch 6, Train Score: 6.91\n",
      "Epoch 7, Val Score: -2.09\n",
      "Epoch 7, Train Score: 7.03\n",
      "Early stopping triggered.\n"
     ]
    },
    {
     "name": "stderr",
     "output_type": "stream",
     "text": [
      "100%|██████████| 8400/8400 [01:13<00:00, 114.07it/s]\n"
     ]
    },
    {
     "name": "stdout",
     "output_type": "stream",
     "text": [
      "420  files for word  18\n"
     ]
    },
    {
     "name": "stderr",
     "output_type": "stream",
     "text": [
      "100%|██████████| 1200/1200 [00:08<00:00, 137.46it/s]\n"
     ]
    },
    {
     "name": "stdout",
     "output_type": "stream",
     "text": [
      "Epoch 1, Val Score: 1.50\n",
      "Epoch 1, Train Score: 10.58\n",
      "Epoch 2, Val Score: 1.65\n",
      "Epoch 2, Train Score: 12.22\n",
      "Epoch 3, Val Score: 1.79\n",
      "Epoch 3, Train Score: 13.09\n",
      "Epoch 4, Val Score: 1.87\n",
      "Epoch 4, Train Score: 13.59\n",
      "Epoch 5, Val Score: 1.95\n",
      "Epoch 5, Train Score: 13.85\n",
      "Epoch 6, Val Score: 1.99\n",
      "Epoch 6, Train Score: 14.04\n",
      "Epoch 7, Val Score: 2.08\n",
      "Epoch 7, Train Score: 14.15\n",
      "Early stopping triggered.\n"
     ]
    },
    {
     "name": "stderr",
     "output_type": "stream",
     "text": [
      "100%|██████████| 8400/8400 [01:09<00:00, 120.76it/s]\n"
     ]
    },
    {
     "name": "stdout",
     "output_type": "stream",
     "text": [
      "420  files for word  19\n"
     ]
    },
    {
     "name": "stderr",
     "output_type": "stream",
     "text": [
      "100%|██████████| 1200/1200 [00:11<00:00, 101.04it/s]\n"
     ]
    },
    {
     "name": "stdout",
     "output_type": "stream",
     "text": [
      "Epoch 1, Val Score: -0.69\n",
      "Epoch 1, Train Score: 8.18\n",
      "Epoch 2, Val Score: -0.30\n",
      "Epoch 2, Train Score: 9.79\n",
      "Epoch 3, Val Score: -0.19\n",
      "Epoch 3, Train Score: 10.68\n",
      "Epoch 4, Val Score: -0.15\n",
      "Epoch 4, Train Score: 11.06\n",
      "Epoch 5, Val Score: -0.11\n",
      "Epoch 5, Train Score: 11.53\n",
      "Epoch 6, Val Score: -0.13\n",
      "Epoch 6, Train Score: 11.79\n",
      "Epoch 7, Val Score: -0.15\n",
      "Epoch 7, Train Score: 11.92\n",
      "Early stopping triggered.\n"
     ]
    },
    {
     "name": "stderr",
     "output_type": "stream",
     "text": [
      "100%|██████████| 8400/8400 [01:14<00:00, 113.14it/s]\n"
     ]
    },
    {
     "name": "stdout",
     "output_type": "stream",
     "text": [
      "420  files for word  20\n"
     ]
    },
    {
     "name": "stderr",
     "output_type": "stream",
     "text": [
      "100%|██████████| 1200/1200 [00:12<00:00, 93.75it/s] \n"
     ]
    },
    {
     "name": "stdout",
     "output_type": "stream",
     "text": [
      "Epoch 1, Val Score: 1.14\n",
      "Epoch 1, Train Score: 8.14\n",
      "Epoch 2, Val Score: 1.91\n",
      "Epoch 2, Train Score: 9.82\n",
      "Epoch 3, Val Score: 2.14\n",
      "Epoch 3, Train Score: 10.66\n",
      "Epoch 4, Val Score: 2.22\n",
      "Epoch 4, Train Score: 11.37\n",
      "Epoch 5, Val Score: 2.18\n",
      "Epoch 5, Train Score: 11.76\n",
      "Epoch 6, Val Score: 2.15\n",
      "Epoch 6, Train Score: 12.03\n",
      "Epoch 7, Val Score: 2.13\n",
      "Epoch 7, Train Score: 12.20\n",
      "Early stopping triggered.\n"
     ]
    }
   ],
   "source": [
    "from hmmlearn.hmm import GMMHMM\n",
    "# 获取模型参数初始化\n",
    "N_state = 6\n",
    "N_mix = 5\n",
    "\n",
    "models = []\n",
    "\n",
    "for i in range(1, 21):\n",
    "    collect_fea, len_feas = load_data(i, train_sids)\n",
    "    collect_fea = collect_fea\n",
    "    len_feas = len_feas\n",
    "    print(len(collect_fea), \" files for word \", i)\n",
    "    pi, A, hmm_means, hmm_sigmas, hmm_ws = init_para_hmm(collect_fea, len_feas, N_state, N_mix)\n",
    "\n",
    "    train_GMMHMM = GMMHMM(n_components=N_state,\n",
    "                        n_mix=N_mix,\n",
    "                        covariance_type='diag',\n",
    "                        n_iter=1,\n",
    "                        tol=1e-4,\n",
    "                        verbose=False,\n",
    "                        init_params=\"\",\n",
    "                        params=\"tmcw\",\n",
    "                        min_covar=0.0001,\n",
    "                        )\n",
    "\n",
    "    train_GMMHMM.startprob_ = pi\n",
    "    train_GMMHMM.transmat_ = A\n",
    "\n",
    "    train_GMMHMM.weights = hmm_ws\n",
    "    train_GMMHMM.means_ = hmm_means\n",
    "    train_GMMHMM.covars = hmm_sigmas\n",
    "\n",
    "    best_model = None\n",
    "    max_val_score = -np.inf\n",
    "    max_train_score = -np.inf\n",
    "    patience = 3\n",
    "    no_improve_count = 0\n",
    "\n",
    "    val_fea, _ = load_data(i, val_sids)\n",
    "    for epoch in range(30):  # 最多训练30轮\n",
    "        train_GMMHMM.fit(np.concatenate(collect_fea, axis=0), np.array(len_feas))\n",
    "\n",
    "        val_score = np.mean([train_GMMHMM.score(fea)/len(fea) for fea in val_fea])\n",
    "        print(f\"Epoch {epoch+1}, Val Score: {val_score:.2f}\")\n",
    "        train_score = np.mean([train_GMMHMM.score(fea)/len(fea) for fea in collect_fea])\n",
    "        print(f\"Epoch {epoch+1}, Train Score: {train_score:.2f}\")\n",
    "\n",
    "        if val_score > max_val_score - 0.1 and train_score > max_train_score + 1:\n",
    "            if train_score > max_train_score:\n",
    "                max_train_score = train_score\n",
    "            if val_score > max_val_score:\n",
    "                max_val_score = val_score\n",
    "            # best_model = GMMHMM(n_components=N_state,\n",
    "            #                     n_mix=N_mix,\n",
    "            #                     covariance_type='diag')\n",
    "            # best_model.__setstate__(train_GMMHMM.__getstate__())\n",
    "            no_improve_count = 0\n",
    "        elif val_score < max_val_score and train_score < max_train_score:\n",
    "            print(f\"Epoch {epoch+1}, No improvement in validation or training score.\")\n",
    "            break\n",
    "        else:\n",
    "            no_improve_count += 1\n",
    "            if no_improve_count >= patience:\n",
    "                print(\"Early stopping triggered.\")\n",
    "                break\n",
    "    models.append(train_GMMHMM)\n",
    "\n",
    "np.save(\"models_hmmlearn_0610.npy\", models)"
   ]
  },
  {
   "cell_type": "code",
   "execution_count": null,
   "id": "dfd52b6f",
   "metadata": {},
   "outputs": [],
   "source": []
  },
  {
   "cell_type": "code",
   "execution_count": null,
   "id": "1a1ab279",
   "metadata": {},
   "outputs": [],
   "source": []
  }
 ],
 "metadata": {
  "kernelspec": {
   "display_name": "Python 3",
   "language": "python",
   "name": "python3"
  },
  "language_info": {
   "codemirror_mode": {
    "name": "ipython",
    "version": 3
   },
   "file_extension": ".py",
   "mimetype": "text/x-python",
   "name": "python",
   "nbconvert_exporter": "python",
   "pygments_lexer": "ipython3",
   "version": "3.12.5"
  }
 },
 "nbformat": 4,
 "nbformat_minor": 5
}
